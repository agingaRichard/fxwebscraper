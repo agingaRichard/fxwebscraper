{
  "cells": [
    {
      "cell_type": "markdown",
      "metadata": {
        "id": "E1NCHLiRj7HI"
      },
      "source": [
        "**Sample Forex Factory webscraper**"
      ]
    },
    {
      "cell_type": "markdown",
      "metadata": {},
      "source": [
        "1. Install and import dependencies"
      ]
    },
    {
      "cell_type": "code",
      "execution_count": 1,
      "metadata": {
        "colab": {
          "base_uri": "https://localhost:8080/"
        },
        "id": "jkRhu3hWkGqC",
        "outputId": "cb55289b-5467-42a7-aec3-86c9f1c30941"
      },
      "outputs": [
        {
          "name": "stdout",
          "output_type": "stream",
          "text": [
            "Requirement already satisfied: bs4 in c:\\python311\\lib\\site-packages (0.0.1)\n",
            "Requirement already satisfied: beautifulsoup4 in c:\\python311\\lib\\site-packages (from bs4) (4.12.2)\n",
            "Requirement already satisfied: soupsieve>1.2 in c:\\python311\\lib\\site-packages (from beautifulsoup4->bs4) (2.5)\n",
            "Note: you may need to restart the kernel to use updated packages.\n"
          ]
        }
      ],
      "source": [
        "pip install bs4"
      ]
    },
    {
      "cell_type": "code",
      "execution_count": 2,
      "metadata": {
        "colab": {
          "base_uri": "https://localhost:8080/"
        },
        "id": "9XRv__YX2ExN",
        "outputId": "15da655b-0b70-4e64-a7c1-0a622c08005b"
      },
      "outputs": [
        {
          "name": "stdout",
          "output_type": "stream",
          "text": [
            "Requirement already satisfied: selenium in c:\\python311\\lib\\site-packages (4.12.0)\n",
            "Requirement already satisfied: urllib3[socks]<3,>=1.26 in c:\\python311\\lib\\site-packages (from selenium) (2.0.5)\n",
            "Requirement already satisfied: trio~=0.17 in c:\\python311\\lib\\site-packages (from selenium) (0.22.2)\n",
            "Requirement already satisfied: trio-websocket~=0.9 in c:\\python311\\lib\\site-packages (from selenium) (0.10.4)\n",
            "Requirement already satisfied: certifi>=2021.10.8 in c:\\python311\\lib\\site-packages (from selenium) (2023.7.22)\n",
            "Requirement already satisfied: attrs>=20.1.0 in c:\\python311\\lib\\site-packages (from trio~=0.17->selenium) (23.1.0)\n",
            "Requirement already satisfied: sortedcontainers in c:\\python311\\lib\\site-packages (from trio~=0.17->selenium) (2.4.0)\n",
            "Requirement already satisfied: idna in c:\\python311\\lib\\site-packages (from trio~=0.17->selenium) (3.4)\n",
            "Requirement already satisfied: outcome in c:\\python311\\lib\\site-packages (from trio~=0.17->selenium) (1.2.0)\n",
            "Requirement already satisfied: sniffio in c:\\python311\\lib\\site-packages (from trio~=0.17->selenium) (1.3.0)\n",
            "Requirement already satisfied: cffi>=1.14 in c:\\python311\\lib\\site-packages (from trio~=0.17->selenium) (1.15.1)\n",
            "Requirement already satisfied: exceptiongroup in c:\\python311\\lib\\site-packages (from trio-websocket~=0.9->selenium) (1.1.3)\n",
            "Requirement already satisfied: wsproto>=0.14 in c:\\python311\\lib\\site-packages (from trio-websocket~=0.9->selenium) (1.2.0)\n",
            "Requirement already satisfied: pysocks!=1.5.7,<2.0,>=1.5.6 in c:\\python311\\lib\\site-packages (from urllib3[socks]<3,>=1.26->selenium) (1.7.1)\n",
            "Requirement already satisfied: pycparser in c:\\python311\\lib\\site-packages (from cffi>=1.14->trio~=0.17->selenium) (2.21)\n",
            "Requirement already satisfied: h11<1,>=0.9.0 in c:\\python311\\lib\\site-packages (from wsproto>=0.14->trio-websocket~=0.9->selenium) (0.14.0)\n",
            "Note: you may need to restart the kernel to use updated packages.\n"
          ]
        }
      ],
      "source": [
        "pip install selenium"
      ]
    },
    {
      "cell_type": "code",
      "execution_count": 3,
      "metadata": {
        "colab": {
          "base_uri": "https://localhost:8080/"
        },
        "id": "6aAEryFtT2c-",
        "outputId": "0343590c-e148-4056-fd85-58db70d3f617"
      },
      "outputs": [
        {
          "name": "stdout",
          "output_type": "stream",
          "text": [
            "Requirement already satisfied: chromedriver-binary in c:\\python311\\lib\\site-packages (119.0.6028.0.0)\n",
            "Note: you may need to restart the kernel to use updated packages.\n"
          ]
        }
      ],
      "source": [
        "pip install chromedriver-binary"
      ]
    },
    {
      "cell_type": "code",
      "execution_count": 4,
      "metadata": {},
      "outputs": [
        {
          "name": "stdout",
          "output_type": "stream",
          "text": [
            "Requirement already satisfied: requests in c:\\python311\\lib\\site-packages (2.31.0)\n",
            "Requirement already satisfied: charset-normalizer<4,>=2 in c:\\python311\\lib\\site-packages (from requests) (3.2.0)\n",
            "Requirement already satisfied: idna<4,>=2.5 in c:\\python311\\lib\\site-packages (from requests) (3.4)\n",
            "Requirement already satisfied: urllib3<3,>=1.21.1 in c:\\python311\\lib\\site-packages (from requests) (2.0.5)\n",
            "Requirement already satisfied: certifi>=2017.4.17 in c:\\python311\\lib\\site-packages (from requests) (2023.7.22)\n",
            "Note: you may need to restart the kernel to use updated packages.\n"
          ]
        }
      ],
      "source": [
        "pip install requests"
      ]
    },
    {
      "cell_type": "code",
      "execution_count": 5,
      "metadata": {},
      "outputs": [
        {
          "name": "stdout",
          "output_type": "stream",
          "text": [
            "Requirement already satisfied: pymysql in c:\\python311\\lib\\site-packages (1.1.0)\n",
            "Note: you may need to restart the kernel to use updated packages.\n"
          ]
        }
      ],
      "source": [
        "pip install pymysql"
      ]
    },
    {
      "cell_type": "code",
      "execution_count": 6,
      "metadata": {
        "id": "EaPqcFtSkLDU"
      },
      "outputs": [],
      "source": [
        "from bs4 import BeautifulSoup\n",
        "import requests\n",
        "from selenium import webdriver\n",
        "from selenium.webdriver.common.by import By\n",
        "import time\n",
        "import chromedriver_binary\n",
        "import pymysql"
      ]
    },
    {
      "cell_type": "markdown",
      "metadata": {},
      "source": [
        "2. Create a browser instance"
      ]
    },
    {
      "cell_type": "code",
      "execution_count": 7,
      "metadata": {
        "colab": {
          "base_uri": "https://localhost:8080/",
          "height": 442
        },
        "id": "Xbdby4JoyKmi",
        "outputId": "ac537815-2265-4be8-c92a-d40290123eb0"
      },
      "outputs": [],
      "source": [
        "#Creating a webdriver instance\n",
        "driver = webdriver.Edge()\n",
        "#driver = webdriver.Chrome()         ... in case you have google chrome installed"
      ]
    },
    {
      "cell_type": "markdown",
      "metadata": {},
      "source": [
        "3. Use browser instance to access web pages"
      ]
    },
    {
      "cell_type": "code",
      "execution_count": 8,
      "metadata": {
        "colab": {
          "base_uri": "https://localhost:8080/",
          "height": 442
        },
        "id": "GXVoCvgP8h09",
        "outputId": "5c039636-95e9-40ca-eb12-b5553f1966ac"
      },
      "outputs": [],
      "source": [
        "# Opening website\n",
        "driver.get(\"https://www.forexfactory.com\")"
      ]
    },
    {
      "cell_type": "markdown",
      "metadata": {},
      "source": [
        "4. Extract HTML from web page"
      ]
    },
    {
      "cell_type": "code",
      "execution_count": 9,
      "metadata": {},
      "outputs": [],
      "source": [
        "#Extracting data from website\n",
        "src = driver.page_source\n",
        "# Now using beautiful soup\n",
        "mysoup = BeautifulSoup(src, 'html')"
      ]
    },
    {
      "cell_type": "markdown",
      "metadata": {},
      "source": [
        "5. Extract specific HTML element"
      ]
    },
    {
      "cell_type": "code",
      "execution_count": 10,
      "metadata": {},
      "outputs": [],
      "source": [
        "#Getting the 'today' section\n",
        "today = mysoup.find(\"tbody\")"
      ]
    },
    {
      "cell_type": "markdown",
      "metadata": {},
      "source": [
        "6. List all upcoming events"
      ]
    },
    {
      "cell_type": "code",
      "execution_count": 11,
      "metadata": {},
      "outputs": [],
      "source": [
        "#If a news item has a red marker, we will add it to our array of important events.\n",
        "\n",
        "all_events = today.find_all(\"tr\", {\"class\": \"calendar__row\"})\n",
        "#newsitems = username_element.get_text()"
      ]
    },
    {
      "cell_type": "markdown",
      "metadata": {},
      "source": [
        "7. Filter out important events only"
      ]
    },
    {
      "cell_type": "code",
      "execution_count": 12,
      "metadata": {},
      "outputs": [
        {
          "name": "stdout",
          "output_type": "stream",
          "text": [
            "This was high: \n",
            " <tr class=\"calendar__row calendar__row--no-grid\" data-event-id=\"130022\" data-touchable=\"\">\n",
            " <td class=\"calendar__cell calendar__date\">\n",
            "  <!-- -->\n",
            " </td>\n",
            " <td class=\"calendar__cell calendar__time\">\n",
            "  <!-- -->\n",
            " </td>\n",
            " <td class=\"calendar__cell calendar__sub crunched nowrap\">\n",
            "  <div>\n",
            "   <a class=\"mini-sub mini-sub\" href=\"/login\" title=\"Subscribe to ISM Manufacturing Prices\">\n",
            "    <span class=\"icon icon--mini-unsubscribed\">\n",
            "    </span>\n",
            "   </a>\n",
            "   <!-- -->\n",
            "   <!-- -->\n",
            "  </div>\n",
            " </td>\n",
            " <td class=\"calendar__cell calendar__currency\">\n",
            "  <span class=\"\">\n",
            "   USD\n",
            "  </span>\n",
            " </td>\n",
            " <td class=\"calendar__cell calendar__impact\">\n",
            "  <span class=\"icon icon--ff-impact-ora\" title=\"Medium Impact Expected\">\n",
            "  </span>\n",
            "  <div class=\"calendar__impact-icon calendar__impact-icon--print\">\n",
            "   <img alt=\"\" height=\"12\" src=\"https://resources.faireconomy.media/images/sprites/ff-impact-ora.png\" width=\"14\"/>\n",
            "  </div>\n",
            " </td>\n",
            " <td class=\"calendar__cell calendar__event event\" colspan=\"1\">\n",
            "  <div>\n",
            "   <span class=\"calendar__event-title\">\n",
            "    ISM Manufacturing Prices\n",
            "   </span>\n",
            "  </div>\n",
            " </td>\n",
            " <!-- -->\n",
            " <td class=\"calendar__cell calendar__detail\">\n",
            "  <a class=\"calendar__detail-link calendar__detail-link--level-0\" title=\"Open Detail\">\n",
            "  </a>\n",
            " </td>\n",
            " <td class=\"calendar__cell calendar__actual\">\n",
            "  <!-- -->\n",
            "  <span class=\"\">\n",
            "  </span>\n",
            "  <!-- -->\n",
            "  <!-- -->\n",
            " </td>\n",
            " <td class=\"calendar__cell calendar__forecast\">\n",
            "  <span>\n",
            "   48.9\n",
            "  </span>\n",
            " </td>\n",
            " <td class=\"calendar__cell calendar__previous\">\n",
            "  <span>\n",
            "   48.4\n",
            "  </span>\n",
            " </td>\n",
            " <td class=\"calendar__cell calendar__graph\">\n",
            "  <a class=\"calendar__detail-link calendar__detail-link--graph-icon\" title=\"Open Graph\">\n",
            "  </a>\n",
            " </td>\n",
            "</tr>\n",
            "\n",
            "This was high: \n",
            " <tr class=\"calendar__row calendar__row--no-grid\" data-event-id=\"135907\" data-touchable=\"\">\n",
            " <td class=\"calendar__cell calendar__date\">\n",
            "  <!-- -->\n",
            " </td>\n",
            " <td class=\"calendar__cell calendar__time\">\n",
            "  <!-- -->\n",
            " </td>\n",
            " <td class=\"calendar__cell calendar__sub crunched nowrap\">\n",
            "  <div>\n",
            "   <a class=\"mini-sub mini-sub\" href=\"/login\" title=\"Subscribe to FOMC Member Harker Speaks\">\n",
            "    <span class=\"icon icon--mini-unsubscribed\">\n",
            "    </span>\n",
            "   </a>\n",
            "   <!-- -->\n",
            "   <!-- -->\n",
            "  </div>\n",
            " </td>\n",
            " <td class=\"calendar__cell calendar__currency\">\n",
            "  <span class=\"\">\n",
            "   USD\n",
            "  </span>\n",
            " </td>\n",
            " <td class=\"calendar__cell calendar__impact\">\n",
            "  <span class=\"icon icon--ff-impact-ora\" title=\"Medium Impact Expected\">\n",
            "  </span>\n",
            "  <div class=\"calendar__impact-icon calendar__impact-icon--print\">\n",
            "   <img alt=\"\" height=\"12\" src=\"https://resources.faireconomy.media/images/sprites/ff-impact-ora.png\" width=\"14\"/>\n",
            "  </div>\n",
            " </td>\n",
            " <td class=\"calendar__cell calendar__event event\" colspan=\"1\">\n",
            "  <div>\n",
            "   <span class=\"calendar__event-title\">\n",
            "    FOMC Member Harker Speaks\n",
            "   </span>\n",
            "  </div>\n",
            " </td>\n",
            " <!-- -->\n",
            " <td class=\"calendar__cell calendar__detail\">\n",
            "  <a class=\"calendar__detail-link calendar__detail-link--level-0\" title=\"Open Detail\">\n",
            "  </a>\n",
            " </td>\n",
            " <td class=\"calendar__cell calendar__actual\">\n",
            "  <!-- -->\n",
            "  <span class=\"\">\n",
            "  </span>\n",
            "  <!-- -->\n",
            "  <!-- -->\n",
            " </td>\n",
            " <td class=\"calendar__cell calendar__forecast\">\n",
            "  <span>\n",
            "  </span>\n",
            " </td>\n",
            " <td class=\"calendar__cell calendar__previous\">\n",
            "  <span>\n",
            "  </span>\n",
            " </td>\n",
            " <td class=\"calendar__cell calendar__graph\">\n",
            "  <!-- -->\n",
            " </td>\n",
            "</tr>\n",
            "\n",
            "Important:  <tr class=\"calendar__row calendar__row--no-grid\" data-event-id=\"130022\" data-touchable=\"\"><td class=\"calendar__cell calendar__date\"><!-- --></td> <td class=\"calendar__cell calendar__time\"><!-- --></td> <td class=\"calendar__cell calendar__sub crunched nowrap\"><div><a class=\"mini-sub mini-sub\" href=\"/login\" title=\"Subscribe to ISM Manufacturing Prices\"><span class=\"icon icon--mini-unsubscribed\"></span></a> <!-- --> <!-- --></div></td> <td class=\"calendar__cell calendar__currency\"><span class=\"\">USD</span></td> <td class=\"calendar__cell calendar__impact\"><span class=\"icon icon--ff-impact-ora\" title=\"Medium Impact Expected\"></span> <div class=\"calendar__impact-icon calendar__impact-icon--print\"><img alt=\"\" height=\"12\" src=\"https://resources.faireconomy.media/images/sprites/ff-impact-ora.png\" width=\"14\"/></div></td> <td class=\"calendar__cell calendar__event event\" colspan=\"1\"><div><span class=\"calendar__event-title\">ISM Manufacturing Prices</span></div></td> <!-- --> <td class=\"calendar__cell calendar__detail\"><a class=\"calendar__detail-link calendar__detail-link--level-0\" title=\"Open Detail\"></a></td> <td class=\"calendar__cell calendar__actual\"><!-- --><span class=\"\"></span><!-- --> <!-- --></td> <td class=\"calendar__cell calendar__forecast\"><span>48.9</span></td> <td class=\"calendar__cell calendar__previous\"><span>48.4</span></td> <td class=\"calendar__cell calendar__graph\"><a class=\"calendar__detail-link calendar__detail-link--graph-icon\" title=\"Open Graph\"></a></td></tr> \n",
            "\n",
            "Important:  <tr class=\"calendar__row calendar__row--no-grid\" data-event-id=\"135907\" data-touchable=\"\"><td class=\"calendar__cell calendar__date\"><!-- --></td> <td class=\"calendar__cell calendar__time\"><!-- --></td> <td class=\"calendar__cell calendar__sub crunched nowrap\"><div><a class=\"mini-sub mini-sub\" href=\"/login\" title=\"Subscribe to FOMC Member Harker Speaks\"><span class=\"icon icon--mini-unsubscribed\"></span></a> <!-- --> <!-- --></div></td> <td class=\"calendar__cell calendar__currency\"><span class=\"\">USD</span></td> <td class=\"calendar__cell calendar__impact\"><span class=\"icon icon--ff-impact-ora\" title=\"Medium Impact Expected\"></span> <div class=\"calendar__impact-icon calendar__impact-icon--print\"><img alt=\"\" height=\"12\" src=\"https://resources.faireconomy.media/images/sprites/ff-impact-ora.png\" width=\"14\"/></div></td> <td class=\"calendar__cell calendar__event event\" colspan=\"1\"><div><span class=\"calendar__event-title\">FOMC Member Harker Speaks</span></div></td> <!-- --> <td class=\"calendar__cell calendar__detail\"><a class=\"calendar__detail-link calendar__detail-link--level-0\" title=\"Open Detail\"></a></td> <td class=\"calendar__cell calendar__actual\"><!-- --><span class=\"\"></span><!-- --> <!-- --></td> <td class=\"calendar__cell calendar__forecast\"><span></span></td> <td class=\"calendar__cell calendar__previous\"><span></span></td> <td class=\"calendar__cell calendar__graph\"><!-- --></td></tr> \n",
            "\n"
          ]
        }
      ],
      "source": [
        "coming_soon = []  # List of all events that are coming soon\n",
        "imp_events = []  # List of important events\n",
        "high_imp = []\n",
        "\n",
        "past_Events_Classname = 'calendar__row--grey'\n",
        "new_day_Classname = 'calendar__row--new-day'\n",
        "\n",
        "#if an event is not a past event, add it to the list\n",
        "for i in all_events:\n",
        "    if past_Events_Classname not in i['class']:\n",
        "        coming_soon.append(i)\n",
        "\n",
        "#filter out important events\n",
        "for j in coming_soon:\n",
        "    #print(\"Coming soon: \", j, \"\\n\")\n",
        "    high_imp.append(j.find(\"span\", {\"title\": \"Medium Impact Expected\"}))\n",
        "\n",
        "for p in high_imp:\n",
        "    if p != None:\n",
        "        print(\"High: \", p.parent.parent)\n",
        "    else:\n",
        "        high_imp.remove(p)\n",
        "    \n",
        "for m in high_imp:\n",
        "    if m != None:\n",
        "        single_item = m.parent.parent\n",
        "        print(\"This was high: \\n\", single_item.prettify())\n",
        "        imp_events.append(single_item)\n",
        "    #imp_events.append(high_imp.parent())\n",
        "    #print(high_imp)\n",
        "    #if high_imp != None:\n",
        "    #    imp_events.append(j)\n",
        "    #else:\n",
        "    #    pass\n",
        "\n",
        "for k in imp_events:\n",
        "    print(\"Important: \", k, \"\\n\")"
      ]
    },
    {
      "cell_type": "markdown",
      "metadata": {},
      "source": [
        "8. Package the details before sending to a sql database"
      ]
    },
    {
      "cell_type": "code",
      "execution_count": 13,
      "metadata": {},
      "outputs": [
        {
          "name": "stdout",
          "output_type": "stream",
          "text": [
            "\n",
            " Post: \n",
            " {'time': 'N/A', 'currency': 'USD', 'title': 'ISM Manufacturing Prices', 'previous': '48.4', 'forecast': '48.9'}\n",
            "\n",
            " Post: \n",
            " {'time': 'N/A', 'currency': 'USD', 'title': 'FOMC Member Harker Speaks', 'previous': '', 'forecast': ''}\n"
          ]
        }
      ],
      "source": [
        "#Empty list that will hold all the news items\n",
        "my_posts = []\n",
        "\n",
        "#Populate the list with the news items\n",
        "for n in imp_events:\n",
        "    time = n.find(\"td\", {\"class\": \"calendar__time\"})\n",
        "    if time.div is not None:\n",
        "        time = time.div.span.find_next_sibling().text\n",
        "    else:\n",
        "        time = \"N/A\"                                                                        #sorted\n",
        "    currency = n.find(\"td\", {\"class\": \"calendar__cell calendar__currency\"}).span.text       #sorted\n",
        "    title = n.find(\"span\", {\"class\": \"calendar__event-title\"}).text                         #sorted\n",
        "    previous = n.find(\"td\", {\"class\": \"calendar__previous\"}).span.text                      #sorted\n",
        "    forecast = n.find(\"td\", {\"class\": \"calendar__forecast\"}).span.text                      #sorted\n",
        "    \n",
        "    my_posts.append({\"time\": time, \"currency\": currency, \"title\": title, \"previous\": previous, \"forecast\": forecast})\n",
        "\n",
        "for mp in my_posts:\n",
        "    print(\"\\n Post: \\n\", mp)\n"
      ]
    },
    {
      "cell_type": "markdown",
      "metadata": {},
      "source": [
        "9. Connect to a sql database"
      ]
    },
    {
      "cell_type": "code",
      "execution_count": 57,
      "metadata": {},
      "outputs": [
        {
          "data": {
            "text/plain": [
              "0"
            ]
          },
          "execution_count": 57,
          "metadata": {},
          "output_type": "execute_result"
        }
      ],
      "source": [
        "#Start a connection to the server\n",
        "conn = pymysql.connect(host='127.0.0.1', user='fxfactory_scraper', passwd='&Asdf1234', db='scraping', autocommit=True)\n",
        "\n",
        "cur = conn.cursor()\n",
        "cur.execute(\"select @@version\")\n",
        "output = cur.fetchall()\n",
        "\n",
        "# To close the connection\n",
        "#conn.close()\n",
        "\n",
        "#Select the right db\n",
        "cur.execute(\"USE scraping\")\n",
        "\n",
        "#Modify the db to accept unicode\n",
        "cur.execute(\"ALTER DATABASE scraping CHARACTER SET = utf8mb4 COLLATE = utf8mb4_unicode_ci;\")\n",
        "cur.execute(\"ALTER TABLE upcoming CONVERT TO CHARACTER SET utf8mb4 COLLATE utf8mb4_unicode_ci;\")\n",
        "cur.execute(\"ALTER TABLE upcoming CHANGE title title VARCHAR(200) CHARACTER SET utf8mb4 COLLATE utf8mb4_unicode_ci;\")\n",
        "\n",
        "cur.execute(\"ALTER DATABASE scraping CHARACTER SET = utf8mb4 COLLATE = utf8mb4_unicode_ci;\")\n",
        "cur.execute(\"ALTER TABLE alltime CONVERT TO CHARACTER SET utf8mb4 COLLATE utf8mb4_unicode_ci;\")\n",
        "cur.execute(\"ALTER TABLE alltime CHANGE title title VARCHAR(200) CHARACTER SET utf8mb4 COLLATE utf8mb4_unicode_ci;\")"
      ]
    },
    {
      "cell_type": "markdown",
      "metadata": {},
      "source": [
        "10. Send the news to a SQL database"
      ]
    },
    {
      "cell_type": "code",
      "execution_count": 62,
      "metadata": {},
      "outputs": [
        {
          "name": "stdout",
          "output_type": "stream",
          "text": [
            "Tables created:\n",
            "Done\n",
            "My post is:  {'time': 'N/A', 'currency': 'USD', 'title': 'ISM Manufacturing Prices', 'previous': '48.4', 'forecast': '48.9'}\n",
            "My post is:  {'time': 'N/A', 'currency': 'USD', 'title': 'FOMC Member Harker Speaks', 'previous': '', 'forecast': ''}\n"
          ]
        },
        {
          "data": {
            "text/plain": [
              "2"
            ]
          },
          "execution_count": 62,
          "metadata": {},
          "output_type": "execute_result"
        }
      ],
      "source": [
        "#Switch to the right db\n",
        "#import time\n",
        "\n",
        "#Create tables\n",
        "#cur.execute(\"CREATE TABLE upcoming (id BIGINT(7) NOT NULL AUTO_INCREMENT, time VARCHAR(200), currency VARCHAR(200), title VARCHAR(200), previous VARCHAR(200), forecast VARCHAR(200), created TIMESTAMP DEFAULT CURRENT_TIMESTAMP, PRIMARY KEY(id))\")\n",
        "#cur.execute(\"CREATE TABLE alltime (id BIGINT(7) NOT NULL AUTO_INCREMENT, time VARCHAR(200), currency VARCHAR(200), title VARCHAR(200), previous VARCHAR(200), forecast VARCHAR(200), created TIMESTAMP DEFAULT CURRENT_TIMESTAMP, PRIMARY KEY(id))\")\n",
        "print(\"Tables created:\")\n",
        "#print(cur.execute(\"DESCRIBE alltime;\"))\n",
        "#print(cur.execute(\"SHOW TABLES;\"))\n",
        "#cur.execute(\"SELECT * FROM alltime;\")\n",
        "print(\"Done\")\n",
        "\n",
        "#Send data to tables\n",
        "#cur.execute(\"INSERT INTO alltime (time, currency, title, previous, forecast) VALUES (adf, `adf`, `sadfa`, `adsfad`, `asdfasdfa`)\")\n",
        "\n",
        "for post in my_posts:\n",
        "    print(\"My post is: \", post)\n",
        "    cur.execute(\"INSERT INTO upcoming (time, currency, title, previous, forecast) VALUES (%s, %s, %s, %s, %s)\", (post['time'], post[\"currency\"], post[\"title\"], post[\"previous\"], post[\"forecast\"]))\n",
        "\n",
        "#for post in my_posts:\n",
        "#cur.execute(\"INSERT INTO upcoming (time, currency, title, previous, forecast) VALUES (today, `CNY`, `Manufacturing PMI`, `11.3`, `12.9`);\")\n",
        "\n",
        "cur.execute(\"SELECT * FROM upcoming\")\n"
      ]
    }
  ],
  "metadata": {
    "colab": {
      "provenance": []
    },
    "kernelspec": {
      "display_name": "Python 3.11.5 64-bit",
      "language": "python",
      "name": "python3"
    },
    "language_info": {
      "codemirror_mode": {
        "name": "ipython",
        "version": 3
      },
      "file_extension": ".py",
      "mimetype": "text/x-python",
      "name": "python",
      "nbconvert_exporter": "python",
      "pygments_lexer": "ipython3",
      "version": "3.11.5"
    },
    "vscode": {
      "interpreter": {
        "hash": "c261aea317cc0286b3b3261fbba9abdec21eaa57589985bb7a274bf54d6cc0a7"
      }
    }
  },
  "nbformat": 4,
  "nbformat_minor": 0
}
